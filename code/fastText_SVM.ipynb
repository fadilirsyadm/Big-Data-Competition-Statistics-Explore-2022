{
  "nbformat": 4,
  "nbformat_minor": 0,
  "metadata": {
    "colab": {
      "provenance": [],
      "collapsed_sections": []
    },
    "kernelspec": {
      "name": "python3",
      "display_name": "Python 3"
    },
    "language_info": {
      "name": "python"
    },
    "widgets": {
      "application/vnd.jupyter.widget-state+json": {
        "f2f2f97f266945438d3532cc3a9cad6c": {
          "model_module": "@jupyter-widgets/controls",
          "model_name": "HBoxModel",
          "model_module_version": "1.5.0",
          "state": {
            "_dom_classes": [],
            "_model_module": "@jupyter-widgets/controls",
            "_model_module_version": "1.5.0",
            "_model_name": "HBoxModel",
            "_view_count": null,
            "_view_module": "@jupyter-widgets/controls",
            "_view_module_version": "1.5.0",
            "_view_name": "HBoxView",
            "box_style": "",
            "children": [
              "IPY_MODEL_6e10d9be9ca241089f1e1ae84fb5c7b5",
              "IPY_MODEL_94d49d167e5b491a80f9b7c58e14a412",
              "IPY_MODEL_86b5a9cafdca48dbb82e063be71336ed"
            ],
            "layout": "IPY_MODEL_e8a9a64643c24ab2b65835cfc06ba624"
          }
        },
        "6e10d9be9ca241089f1e1ae84fb5c7b5": {
          "model_module": "@jupyter-widgets/controls",
          "model_name": "HTMLModel",
          "model_module_version": "1.5.0",
          "state": {
            "_dom_classes": [],
            "_model_module": "@jupyter-widgets/controls",
            "_model_module_version": "1.5.0",
            "_model_name": "HTMLModel",
            "_view_count": null,
            "_view_module": "@jupyter-widgets/controls",
            "_view_module_version": "1.5.0",
            "_view_name": "HTMLView",
            "description": "",
            "description_tooltip": null,
            "layout": "IPY_MODEL_a278dc395a3c4466bc3198e3493dbc9c",
            "placeholder": "​",
            "style": "IPY_MODEL_cd4e7b6c28204d94ad5cbabd13834f80",
            "value": "100%"
          }
        },
        "94d49d167e5b491a80f9b7c58e14a412": {
          "model_module": "@jupyter-widgets/controls",
          "model_name": "FloatProgressModel",
          "model_module_version": "1.5.0",
          "state": {
            "_dom_classes": [],
            "_model_module": "@jupyter-widgets/controls",
            "_model_module_version": "1.5.0",
            "_model_name": "FloatProgressModel",
            "_view_count": null,
            "_view_module": "@jupyter-widgets/controls",
            "_view_module_version": "1.5.0",
            "_view_name": "ProgressView",
            "bar_style": "success",
            "description": "",
            "description_tooltip": null,
            "layout": "IPY_MODEL_64614a9be76447e7a7d1fe8ffd362e71",
            "max": 10535,
            "min": 0,
            "orientation": "horizontal",
            "style": "IPY_MODEL_bc3eb93b7bc342f8a17a72e30c5ddd5a",
            "value": 10535
          }
        },
        "86b5a9cafdca48dbb82e063be71336ed": {
          "model_module": "@jupyter-widgets/controls",
          "model_name": "HTMLModel",
          "model_module_version": "1.5.0",
          "state": {
            "_dom_classes": [],
            "_model_module": "@jupyter-widgets/controls",
            "_model_module_version": "1.5.0",
            "_model_name": "HTMLModel",
            "_view_count": null,
            "_view_module": "@jupyter-widgets/controls",
            "_view_module_version": "1.5.0",
            "_view_name": "HTMLView",
            "description": "",
            "description_tooltip": null,
            "layout": "IPY_MODEL_ca9224ba00f2423fb40055fd1d94e2ac",
            "placeholder": "​",
            "style": "IPY_MODEL_31a08484c4e6482fadd53c5d699470af",
            "value": " 10535/10535 [00:09&lt;00:00, 1697.23it/s]"
          }
        },
        "e8a9a64643c24ab2b65835cfc06ba624": {
          "model_module": "@jupyter-widgets/base",
          "model_name": "LayoutModel",
          "model_module_version": "1.2.0",
          "state": {
            "_model_module": "@jupyter-widgets/base",
            "_model_module_version": "1.2.0",
            "_model_name": "LayoutModel",
            "_view_count": null,
            "_view_module": "@jupyter-widgets/base",
            "_view_module_version": "1.2.0",
            "_view_name": "LayoutView",
            "align_content": null,
            "align_items": null,
            "align_self": null,
            "border": null,
            "bottom": null,
            "display": null,
            "flex": null,
            "flex_flow": null,
            "grid_area": null,
            "grid_auto_columns": null,
            "grid_auto_flow": null,
            "grid_auto_rows": null,
            "grid_column": null,
            "grid_gap": null,
            "grid_row": null,
            "grid_template_areas": null,
            "grid_template_columns": null,
            "grid_template_rows": null,
            "height": null,
            "justify_content": null,
            "justify_items": null,
            "left": null,
            "margin": null,
            "max_height": null,
            "max_width": null,
            "min_height": null,
            "min_width": null,
            "object_fit": null,
            "object_position": null,
            "order": null,
            "overflow": null,
            "overflow_x": null,
            "overflow_y": null,
            "padding": null,
            "right": null,
            "top": null,
            "visibility": null,
            "width": null
          }
        },
        "a278dc395a3c4466bc3198e3493dbc9c": {
          "model_module": "@jupyter-widgets/base",
          "model_name": "LayoutModel",
          "model_module_version": "1.2.0",
          "state": {
            "_model_module": "@jupyter-widgets/base",
            "_model_module_version": "1.2.0",
            "_model_name": "LayoutModel",
            "_view_count": null,
            "_view_module": "@jupyter-widgets/base",
            "_view_module_version": "1.2.0",
            "_view_name": "LayoutView",
            "align_content": null,
            "align_items": null,
            "align_self": null,
            "border": null,
            "bottom": null,
            "display": null,
            "flex": null,
            "flex_flow": null,
            "grid_area": null,
            "grid_auto_columns": null,
            "grid_auto_flow": null,
            "grid_auto_rows": null,
            "grid_column": null,
            "grid_gap": null,
            "grid_row": null,
            "grid_template_areas": null,
            "grid_template_columns": null,
            "grid_template_rows": null,
            "height": null,
            "justify_content": null,
            "justify_items": null,
            "left": null,
            "margin": null,
            "max_height": null,
            "max_width": null,
            "min_height": null,
            "min_width": null,
            "object_fit": null,
            "object_position": null,
            "order": null,
            "overflow": null,
            "overflow_x": null,
            "overflow_y": null,
            "padding": null,
            "right": null,
            "top": null,
            "visibility": null,
            "width": null
          }
        },
        "cd4e7b6c28204d94ad5cbabd13834f80": {
          "model_module": "@jupyter-widgets/controls",
          "model_name": "DescriptionStyleModel",
          "model_module_version": "1.5.0",
          "state": {
            "_model_module": "@jupyter-widgets/controls",
            "_model_module_version": "1.5.0",
            "_model_name": "DescriptionStyleModel",
            "_view_count": null,
            "_view_module": "@jupyter-widgets/base",
            "_view_module_version": "1.2.0",
            "_view_name": "StyleView",
            "description_width": ""
          }
        },
        "64614a9be76447e7a7d1fe8ffd362e71": {
          "model_module": "@jupyter-widgets/base",
          "model_name": "LayoutModel",
          "model_module_version": "1.2.0",
          "state": {
            "_model_module": "@jupyter-widgets/base",
            "_model_module_version": "1.2.0",
            "_model_name": "LayoutModel",
            "_view_count": null,
            "_view_module": "@jupyter-widgets/base",
            "_view_module_version": "1.2.0",
            "_view_name": "LayoutView",
            "align_content": null,
            "align_items": null,
            "align_self": null,
            "border": null,
            "bottom": null,
            "display": null,
            "flex": null,
            "flex_flow": null,
            "grid_area": null,
            "grid_auto_columns": null,
            "grid_auto_flow": null,
            "grid_auto_rows": null,
            "grid_column": null,
            "grid_gap": null,
            "grid_row": null,
            "grid_template_areas": null,
            "grid_template_columns": null,
            "grid_template_rows": null,
            "height": null,
            "justify_content": null,
            "justify_items": null,
            "left": null,
            "margin": null,
            "max_height": null,
            "max_width": null,
            "min_height": null,
            "min_width": null,
            "object_fit": null,
            "object_position": null,
            "order": null,
            "overflow": null,
            "overflow_x": null,
            "overflow_y": null,
            "padding": null,
            "right": null,
            "top": null,
            "visibility": null,
            "width": null
          }
        },
        "bc3eb93b7bc342f8a17a72e30c5ddd5a": {
          "model_module": "@jupyter-widgets/controls",
          "model_name": "ProgressStyleModel",
          "model_module_version": "1.5.0",
          "state": {
            "_model_module": "@jupyter-widgets/controls",
            "_model_module_version": "1.5.0",
            "_model_name": "ProgressStyleModel",
            "_view_count": null,
            "_view_module": "@jupyter-widgets/base",
            "_view_module_version": "1.2.0",
            "_view_name": "StyleView",
            "bar_color": null,
            "description_width": ""
          }
        },
        "ca9224ba00f2423fb40055fd1d94e2ac": {
          "model_module": "@jupyter-widgets/base",
          "model_name": "LayoutModel",
          "model_module_version": "1.2.0",
          "state": {
            "_model_module": "@jupyter-widgets/base",
            "_model_module_version": "1.2.0",
            "_model_name": "LayoutModel",
            "_view_count": null,
            "_view_module": "@jupyter-widgets/base",
            "_view_module_version": "1.2.0",
            "_view_name": "LayoutView",
            "align_content": null,
            "align_items": null,
            "align_self": null,
            "border": null,
            "bottom": null,
            "display": null,
            "flex": null,
            "flex_flow": null,
            "grid_area": null,
            "grid_auto_columns": null,
            "grid_auto_flow": null,
            "grid_auto_rows": null,
            "grid_column": null,
            "grid_gap": null,
            "grid_row": null,
            "grid_template_areas": null,
            "grid_template_columns": null,
            "grid_template_rows": null,
            "height": null,
            "justify_content": null,
            "justify_items": null,
            "left": null,
            "margin": null,
            "max_height": null,
            "max_width": null,
            "min_height": null,
            "min_width": null,
            "object_fit": null,
            "object_position": null,
            "order": null,
            "overflow": null,
            "overflow_x": null,
            "overflow_y": null,
            "padding": null,
            "right": null,
            "top": null,
            "visibility": null,
            "width": null
          }
        },
        "31a08484c4e6482fadd53c5d699470af": {
          "model_module": "@jupyter-widgets/controls",
          "model_name": "DescriptionStyleModel",
          "model_module_version": "1.5.0",
          "state": {
            "_model_module": "@jupyter-widgets/controls",
            "_model_module_version": "1.5.0",
            "_model_name": "DescriptionStyleModel",
            "_view_count": null,
            "_view_module": "@jupyter-widgets/base",
            "_view_module_version": "1.2.0",
            "_view_name": "StyleView",
            "description_width": ""
          }
        }
      }
    }
  },
  "cells": [
    {
      "cell_type": "markdown",
      "source": [
        "#**Big Data Competition Statistics Explore 2022**"
      ],
      "metadata": {
        "id": "zvDhPCFlf2C8"
      }
    },
    {
      "cell_type": "markdown",
      "source": [
        "#**IMPLEMENTASI KLASIFIKASI MULTILABEL DENGAN SUPPORT VECTOR MACHINE DAN FASTEXT PADA TWEET YANG BERPOTENSI CYBERBULLYING**"
      ],
      "metadata": {
        "id": "cwSEvf1iDaMP"
      }
    },
    {
      "cell_type": "markdown",
      "source": [
        "* **Kode Tim :** BDC21\n",
        "\n",
        "* **Anggota  :** Fadil Irsyad Muhammad<sup>1</sup>. Dina Lestari<sup>2</sup>. Atika Indah Mentari<sup>3</sup>.\n",
        "\n",
        "* **Asal Universitas :** Universitas Gadjah Mada"
      ],
      "metadata": {
        "id": "nTHpk6j1Ddbt"
      }
    },
    {
      "cell_type": "markdown",
      "source": [
        "####**Import Library**"
      ],
      "metadata": {
        "id": "-sT6TLMvCrS8"
      }
    },
    {
      "cell_type": "code",
      "source": [
        "from google.colab import drive\n",
        "drive.mount('/content/drive')\n",
        "\n",
        "import warnings\n",
        "warnings.filterwarnings(\"ignore\")\n",
        "\n",
        "import pandas as pd\n",
        "import numpy as np\n",
        "import os\n",
        "import re\n",
        "import string\n",
        "\n",
        "import nltk\n",
        "from nltk.tokenize import word_tokenize\n",
        "from nltk.corpus import stopwords\n",
        "nltk.download('punkt')\n",
        "nltk.download('stopwords')\n",
        "\n",
        "from tqdm.auto import tqdm\n",
        "from gensim.models import FastText\n",
        "from string import punctuation\n",
        "\n",
        "from sklearn.model_selection import train_test_split\n",
        "from sklearn.svm import LinearSVC\n",
        "from sklearn.metrics import accuracy_score, precision_score, recall_score, f1_score, confusion_matrix, multilabel_confusion_matrix"
      ],
      "metadata": {
        "colab": {
          "base_uri": "https://localhost:8080/"
        },
        "id": "sm6B3Yv3CtdG",
        "outputId": "ca4aca6b-3b55-45da-dfb8-d9e1565782e7"
      },
      "execution_count": 1,
      "outputs": [
        {
          "output_type": "stream",
          "name": "stdout",
          "text": [
            "Drive already mounted at /content/drive; to attempt to forcibly remount, call drive.mount(\"/content/drive\", force_remount=True).\n"
          ]
        },
        {
          "output_type": "stream",
          "name": "stderr",
          "text": [
            "[nltk_data] Downloading package punkt to /root/nltk_data...\n",
            "[nltk_data]   Package punkt is already up-to-date!\n",
            "[nltk_data] Downloading package stopwords to /root/nltk_data...\n",
            "[nltk_data]   Package stopwords is already up-to-date!\n"
          ]
        }
      ]
    },
    {
      "cell_type": "code",
      "source": [
        "# inisialisasi bilangan random\n",
        "np.random.seed(21)"
      ],
      "metadata": {
        "id": "3tnXasJSDL0y"
      },
      "execution_count": 2,
      "outputs": []
    },
    {
      "cell_type": "markdown",
      "source": [
        "###**Prepare Corpus**"
      ],
      "metadata": {
        "id": "7VEoiy7bDTqr"
      }
    },
    {
      "cell_type": "code",
      "source": [
        "df = pd.read_csv('/content/drive/Shareddrives/BDC21/data/Data.csv')"
      ],
      "metadata": {
        "id": "38e2h0MVDSaM"
      },
      "execution_count": 3,
      "outputs": []
    },
    {
      "cell_type": "markdown",
      "source": [
        "##**Language Modeling**"
      ],
      "metadata": {
        "id": "1BGeC8ttEwUq"
      }
    },
    {
      "cell_type": "code",
      "source": [
        "# train language model\n",
        "sentences = [word_tokenize(tweet.lower()) for tweet in tqdm(df['tweet'])]\n",
        "model = FastText(sentences, size = 32, window = 3, min_count = 1, workers = 4, iter = 10, sg = 0, hs = 0)"
      ],
      "metadata": {
        "colab": {
          "base_uri": "https://localhost:8080/",
          "height": 49,
          "referenced_widgets": [
            "f2f2f97f266945438d3532cc3a9cad6c",
            "6e10d9be9ca241089f1e1ae84fb5c7b5",
            "94d49d167e5b491a80f9b7c58e14a412",
            "86b5a9cafdca48dbb82e063be71336ed",
            "e8a9a64643c24ab2b65835cfc06ba624",
            "a278dc395a3c4466bc3198e3493dbc9c",
            "cd4e7b6c28204d94ad5cbabd13834f80",
            "64614a9be76447e7a7d1fe8ffd362e71",
            "bc3eb93b7bc342f8a17a72e30c5ddd5a",
            "ca9224ba00f2423fb40055fd1d94e2ac",
            "31a08484c4e6482fadd53c5d699470af"
          ]
        },
        "id": "vXWh6zxTE6oJ",
        "outputId": "d89caeb4-d4a5-4fb1-db83-c4f0ff159b9c"
      },
      "execution_count": 4,
      "outputs": [
        {
          "output_type": "display_data",
          "data": {
            "text/plain": [
              "  0%|          | 0/10535 [00:00<?, ?it/s]"
            ],
            "application/vnd.jupyter.widget-view+json": {
              "version_major": 2,
              "version_minor": 0,
              "model_id": "f2f2f97f266945438d3532cc3a9cad6c"
            }
          },
          "metadata": {}
        }
      ]
    },
    {
      "cell_type": "code",
      "source": [
        "# load model\n",
        "os.makedirs('model/fasttext/', exist_ok = True)\n",
        "model.save('model/fasttext/tweet_cyberbullying.fasttext')\n",
        "model_ft = FastText.load('model/fasttext/tweet_cyberbullying.fasttext')\n",
        "w2v = model_ft.wv"
      ],
      "metadata": {
        "id": "iBqFEUcZFPLa"
      },
      "execution_count": 5,
      "outputs": []
    },
    {
      "cell_type": "markdown",
      "source": [
        "##**Data Preprocessing**"
      ],
      "metadata": {
        "id": "sn86xjnlEbJB"
      }
    },
    {
      "cell_type": "code",
      "source": [
        "# persiapan normalisasi\n",
        "kamus_alay = pd.read_csv('https://raw.githubusercontent.com/nasalsabila/kamus-alay/master/colloquial-indonesian-lexicon.csv')\n",
        "kamus_alay = kamus_alay.filter(['slang', 'formal'], axis = 1).drop_duplicates(subset = ['slang'])\n",
        "kamus_alay_map = dict(zip(kamus_alay['slang'], kamus_alay['formal']))\n",
        "# mendefinisikan stopwords\n",
        "extra_stopwords = [\n",
        "    \"user'\", 'user', 'rt', 'amp', 'sih', 'deh', 'gue', 'pas', 'sok', 'nya', 'mas', 'kalo', 'dll', 'lo', 'kak',\n",
        "    'nih', 'wkwk', 'wkwkwk', 'haha', 'loh', 'iya', 'mah', 'hahaha', 'bro', 'url', 'aja', 'lu', 'bang', 'ya'\n",
        "    ]\n",
        "list_stopwords = set(stopwords.words('indonesian') + extra_stopwords + list(punctuation))\n",
        "def preprocessing(text):\n",
        "  # menghapus new line\n",
        "  text = re.sub('\\n', ' ', text)\n",
        "  # menghapus angka pada teks\n",
        "  text = re.sub('\\d+', ' ', text)\n",
        "  # menghapus whitespace leading & trailing\n",
        "  text = re.sub('\\s+', ' ', text)\n",
        "  # menghapus multiple whitespace\n",
        "  text = re.sub(r'\\b[a-zA-Z]\\b', ' ', text) \n",
        "  # normalisasi\n",
        "  text = ' '.join([kamus_alay_map[word.lower()] if word in kamus_alay_map else word for word in text.split(' ')])\n",
        "  return text\n",
        "df['tweet_preprocessed'] = df['tweet'].apply(preprocessing)"
      ],
      "metadata": {
        "id": "Um4_X17qEX5N"
      },
      "execution_count": 6,
      "outputs": []
    },
    {
      "cell_type": "code",
      "source": [
        "# tokenisasi & padding\n",
        "def norm_sent_vector(sentence, w2v_model, stopwords):\n",
        "  vecs = [w2v_model[word.lower()] for word in word_tokenize(sentence) if word not in list_stopwords]\n",
        "  norm_vecs = [vec / np.linalg.norm(vec) for vec in vecs if np.linalg.norm(vec) > 0]\n",
        "  sent_vec = np.mean(norm_vecs, axis = 0)\n",
        "  return sent_vec\n",
        "vecs = np.array([norm_sent_vector(sentence, w2v, list_stopwords) for sentence in df['tweet_preprocessed']])"
      ],
      "metadata": {
        "id": "81mtwQY17BNp"
      },
      "execution_count": 7,
      "outputs": []
    },
    {
      "cell_type": "code",
      "source": [
        "# splitting dataset\n",
        "cols_target = list(df.columns)[2:8]\n",
        "tweet = vecs\n",
        "labels = df[cols_target]\n",
        "X_train, X_test, y_train, y_test = train_test_split(tweet, labels, test_size = 0.3)\n",
        "X_train.shape, X_test.shape, y_train.shape, y_test.shape"
      ],
      "metadata": {
        "colab": {
          "base_uri": "https://localhost:8080/"
        },
        "id": "w7LKF_NlJLhi",
        "outputId": "c8ad4b70-2801-42dd-fded-43a8b7f0878a"
      },
      "execution_count": 8,
      "outputs": [
        {
          "output_type": "execute_result",
          "data": {
            "text/plain": [
              "((7374, 32), (3161, 32), (7374, 6), (3161, 6))"
            ]
          },
          "metadata": {},
          "execution_count": 8
        }
      ]
    },
    {
      "cell_type": "markdown",
      "source": [
        "##**Modeling**"
      ],
      "metadata": {
        "id": "3LlIC6sdIy5G"
      }
    },
    {
      "cell_type": "code",
      "source": [
        "model = LinearSVC(C = 10)\n",
        "pred = pd.DataFrame()\n",
        "for label in cols_target:\n",
        "  print('target    : {}'.format(label))\n",
        "  y_loop = y_train[label]\n",
        "  model.fit(X_train, y_loop)\n",
        "  y_pred = model.predict(X_test)\n",
        "  print('accuracy  : {}'.format(round(accuracy_score(y_test[label], y_pred), 2)))\n",
        "  print('precision : {}'.format(round(precision_score(y_test[label], y_pred), 2)))\n",
        "  print('recall    : {}'.format(round(recall_score(y_test[label], y_pred), 2)))\n",
        "  print('f1_Score  : {}'.format(round(f1_score(y_test[label], y_pred), 2)), '\\n')\n",
        "  pred[label] = y_pred"
      ],
      "metadata": {
        "colab": {
          "base_uri": "https://localhost:8080/"
        },
        "id": "obOoHq4SI112",
        "outputId": "ee516c25-727b-419e-c452-81aafc609589"
      },
      "execution_count": 9,
      "outputs": [
        {
          "output_type": "stream",
          "name": "stdout",
          "text": [
            "target    : individual\n",
            "accuracy  : 0.77\n",
            "precision : 0.62\n",
            "recall    : 0.27\n",
            "f1_Score  : 0.38 \n",
            "\n",
            "target    : group\n",
            "accuracy  : 0.86\n",
            "precision : 0.65\n",
            "recall    : 0.1\n",
            "f1_Score  : 0.17 \n",
            "\n",
            "target    : gender\n",
            "accuracy  : 0.98\n",
            "precision : 0.0\n",
            "recall    : 0.0\n",
            "f1_Score  : 0.0 \n",
            "\n",
            "target    : physical\n",
            "accuracy  : 0.97\n",
            "precision : 0.0\n",
            "recall    : 0.0\n",
            "f1_Score  : 0.0 \n",
            "\n",
            "target    : race\n",
            "accuracy  : 0.97\n",
            "precision : 0.69\n",
            "recall    : 0.18\n",
            "f1_Score  : 0.28 \n",
            "\n",
            "target    : religion\n",
            "accuracy  : 0.94\n",
            "precision : 0.79\n",
            "recall    : 0.12\n",
            "f1_Score  : 0.21 \n",
            "\n"
          ]
        }
      ]
    },
    {
      "cell_type": "code",
      "source": [
        "multilabel_confusion_matrix(y_test, pred)"
      ],
      "metadata": {
        "colab": {
          "base_uri": "https://localhost:8080/"
        },
        "id": "hmLVrFUsK1PC",
        "outputId": "4b1e3ac9-4f2a-4fac-d08d-37af9e98f518"
      },
      "execution_count": 10,
      "outputs": [
        {
          "output_type": "execute_result",
          "data": {
            "text/plain": [
              "array([[[2196,  139],\n",
              "        [ 601,  225]],\n",
              "\n",
              "       [[2688,   24],\n",
              "        [ 405,   44]],\n",
              "\n",
              "       [[3093,    0],\n",
              "        [  68,    0]],\n",
              "\n",
              "       [[3080,    0],\n",
              "        [  81,    0]],\n",
              "\n",
              "       [[3039,    9],\n",
              "        [  93,   20]],\n",
              "\n",
              "       [[2963,    6],\n",
              "        [ 169,   23]]])"
            ]
          },
          "metadata": {},
          "execution_count": 10
        }
      ]
    }
  ]
}